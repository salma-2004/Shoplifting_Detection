{
 "cells": [
  {
   "cell_type": "markdown",
   "id": "38d4bd72",
   "metadata": {
    "id": "38d4bd72"
   },
   "source": [
    "# Shoplifting Video Classification using pretrained model"
   ]
  },
  {
   "cell_type": "code",
   "execution_count": 1,
   "id": "66d65718-1ae0-4585-81d3-bc4d8d505870",
   "metadata": {
    "execution": {
     "iopub.execute_input": "2025-03-19T04:37:22.830413Z",
     "iopub.status.busy": "2025-03-19T04:37:22.830084Z",
     "iopub.status.idle": "2025-03-19T04:37:51.329199Z",
     "shell.execute_reply": "2025-03-19T04:37:51.328286Z",
     "shell.execute_reply.started": "2025-03-19T04:37:22.830377Z"
    }
   },
   "outputs": [
    {
     "name": "stdout",
     "output_type": "stream",
     "text": [
      "Requirement already satisfied: gdown in /usr/local/lib/python3.10/dist-packages (5.2.0)\n",
      "Requirement already satisfied: beautifulsoup4 in /usr/local/lib/python3.10/dist-packages (from gdown) (4.12.3)\n",
      "Requirement already satisfied: filelock in /usr/local/lib/python3.10/dist-packages (from gdown) (3.17.0)\n",
      "Requirement already satisfied: requests[socks] in /usr/local/lib/python3.10/dist-packages (from gdown) (2.32.3)\n",
      "Requirement already satisfied: tqdm in /usr/local/lib/python3.10/dist-packages (from gdown) (4.67.1)\n",
      "Requirement already satisfied: soupsieve>1.2 in /usr/local/lib/python3.10/dist-packages (from beautifulsoup4->gdown) (2.6)\n",
      "Requirement already satisfied: charset-normalizer<4,>=2 in /usr/local/lib/python3.10/dist-packages (from requests[socks]->gdown) (3.4.1)\n",
      "Requirement already satisfied: idna<4,>=2.5 in /usr/local/lib/python3.10/dist-packages (from requests[socks]->gdown) (3.10)\n",
      "Requirement already satisfied: urllib3<3,>=1.21.1 in /usr/local/lib/python3.10/dist-packages (from requests[socks]->gdown) (2.3.0)\n",
      "Requirement already satisfied: certifi>=2017.4.17 in /usr/local/lib/python3.10/dist-packages (from requests[socks]->gdown) (2025.1.31)\n",
      "Requirement already satisfied: PySocks!=1.5.7,>=1.5.6 in /usr/local/lib/python3.10/dist-packages (from requests[socks]->gdown) (1.7.1)\n"
     ]
    },
    {
     "name": "stderr",
     "output_type": "stream",
     "text": [
      "Downloading...\n",
      "From (original): https://drive.google.com/uc?id=1RFOxWcIM6eh0WUgqiywueHEuGEEzxDY-\n",
      "From (redirected): https://drive.google.com/uc?id=1RFOxWcIM6eh0WUgqiywueHEuGEEzxDY-&confirm=t&uuid=e0a00e7f-339d-4959-a031-2d4eee467329\n",
      "To: /kaggle/working/shop_dataSet.zip\n",
      "100%|██████████| 1.78G/1.78G [00:14<00:00, 125MB/s] \n"
     ]
    },
    {
     "name": "stdout",
     "output_type": "stream",
     "text": [
      "Dataset downloaded and extracted.\n"
     ]
    }
   ],
   "source": [
    "!pip install gdown\n",
    "import gdown\n",
    "import zipfile\n",
    "\n",
    "drive_link = \"https://drive.google.com/uc?id=1RFOxWcIM6eh0WUgqiywueHEuGEEzxDY-\"  \n",
    "output_path = \"/kaggle/working/shop_dataSet.zip\"\n",
    "\n",
    "gdown.download(drive_link, output_path, quiet=False)\n",
    "\n",
    "with zipfile.ZipFile(output_path, 'r') as zip_ref:\n",
    "    zip_ref.extractall(\"/kaggle/working\")\n",
    "\n",
    "print(\"Dataset downloaded and extracted.\")"
   ]
  },
  {
   "cell_type": "markdown",
   "id": "0c6a90e5",
   "metadata": {
    "id": "0c6a90e5"
   },
   "source": [
    "### Importing Libraries"
   ]
  },
  {
   "cell_type": "code",
   "execution_count": 2,
   "id": "a675b4ac",
   "metadata": {
    "execution": {
     "iopub.execute_input": "2025-03-19T04:38:57.082208Z",
     "iopub.status.busy": "2025-03-19T04:38:57.081738Z",
     "iopub.status.idle": "2025-03-19T04:39:02.795856Z",
     "shell.execute_reply": "2025-03-19T04:39:02.794906Z",
     "shell.execute_reply.started": "2025-03-19T04:38:57.082182Z"
    },
    "id": "a675b4ac"
   },
   "outputs": [],
   "source": [
    "import os\n",
    "import cv2\n",
    "import numpy as np\n",
    "import torch\n",
    "import random\n",
    "import torchvision.transforms as transforms\n",
    "from torch.utils.data import Dataset, DataLoader"
   ]
  },
  {
   "cell_type": "markdown",
   "id": "6f99dd95",
   "metadata": {
    "id": "6f99dd95"
   },
   "source": [
    "### random seed for reproducibility"
   ]
  },
  {
   "cell_type": "code",
   "execution_count": 3,
   "id": "eece6673",
   "metadata": {
    "colab": {
     "base_uri": "https://localhost:8080/"
    },
    "execution": {
     "iopub.execute_input": "2025-03-19T04:39:07.817962Z",
     "iopub.status.busy": "2025-03-19T04:39:07.817325Z",
     "iopub.status.idle": "2025-03-19T04:39:07.830037Z",
     "shell.execute_reply": "2025-03-19T04:39:07.829255Z",
     "shell.execute_reply.started": "2025-03-19T04:39:07.817921Z"
    },
    "id": "eece6673",
    "outputId": "765e82af-9ee2-44a0-e5b7-c4dca831b06b"
   },
   "outputs": [
    {
     "data": {
      "text/plain": [
       "<torch._C.Generator at 0x7d7ae3f26cd0>"
      ]
     },
     "execution_count": 3,
     "metadata": {},
     "output_type": "execute_result"
    }
   ],
   "source": [
    "seed_constant = 27\n",
    "np.random.seed(seed_constant)\n",
    "random.seed(seed_constant)\n",
    "torch.manual_seed(seed_constant)"
   ]
  },
  {
   "cell_type": "markdown",
   "id": "72cfb71f",
   "metadata": {
    "id": "72cfb71f"
   },
   "source": [
    "### Dataset Exploration"
   ]
  },
  {
   "cell_type": "code",
   "execution_count": 5,
   "id": "f0f39f34",
   "metadata": {
    "colab": {
     "base_uri": "https://localhost:8080/"
    },
    "execution": {
     "iopub.execute_input": "2025-03-19T04:39:42.377758Z",
     "iopub.status.busy": "2025-03-19T04:39:42.377411Z",
     "iopub.status.idle": "2025-03-19T04:39:42.383858Z",
     "shell.execute_reply": "2025-03-19T04:39:42.383147Z",
     "shell.execute_reply.started": "2025-03-19T04:39:42.377728Z"
    },
    "id": "f0f39f34",
    "outputId": "d3278c5e-ca7a-435a-817c-b1ccc7372068"
   },
   "outputs": [
    {
     "name": "stdout",
     "output_type": "stream",
     "text": [
      "Found 324 video files in the directory: /kaggle/working/Shop DataSet/shop lifters\n",
      "Found 531 video files in the directory: /kaggle/working/Shop DataSet/non shop lifters\n"
     ]
    }
   ],
   "source": [
    "DATASET_DIR = \"/kaggle/working/Shop DataSet\"\n",
    "shop_lifters_dir = os.path.join(DATASET_DIR, \"shop lifters\")\n",
    "non_shop_lifters_dir = os.path.join(DATASET_DIR, \"non shop lifters\")\n",
    "\n",
    "#print the number of video files in each directory\n",
    "print(f\"Found {len(os.listdir(shop_lifters_dir))} video files in the directory: {shop_lifters_dir}\")\n",
    "print(f\"Found {len(os.listdir(non_shop_lifters_dir))} video files in the directory: {non_shop_lifters_dir}\")"
   ]
  },
  {
   "cell_type": "code",
   "execution_count": 6,
   "id": "4d2ffb9f",
   "metadata": {
    "execution": {
     "iopub.execute_input": "2025-03-19T04:39:46.252537Z",
     "iopub.status.busy": "2025-03-19T04:39:46.252244Z",
     "iopub.status.idle": "2025-03-19T04:39:46.257380Z",
     "shell.execute_reply": "2025-03-19T04:39:46.256510Z",
     "shell.execute_reply.started": "2025-03-19T04:39:46.252516Z"
    },
    "id": "4d2ffb9f"
   },
   "outputs": [],
   "source": [
    "#inspect a few samples\n",
    "def inspect_samples(video_dir):\n",
    "    for video_file in os.listdir(video_dir)[:10]:\n",
    "        cap = cv2.VideoCapture(os.path.join(video_dir, video_file))\n",
    "        frame_width = int(cap.get(cv2.CAP_PROP_FRAME_WIDTH))\n",
    "        frame_height = int(cap.get(cv2.CAP_PROP_FRAME_HEIGHT))\n",
    "        frame_rate = int(cap.get(cv2.CAP_PROP_FPS))\n",
    "        frame_count = int(cap.get(cv2.CAP_PROP_FRAME_COUNT))\n",
    "        cap.release()\n",
    "\n",
    "        print(f\"Video: {video_file}, Width: {frame_width}, Height: {frame_height}, FPS: {frame_rate}, Frames: {frame_count}\")\n"
   ]
  },
  {
   "cell_type": "code",
   "execution_count": 7,
   "id": "03520f5c",
   "metadata": {
    "colab": {
     "base_uri": "https://localhost:8080/"
    },
    "execution": {
     "iopub.execute_input": "2025-03-19T04:39:50.228434Z",
     "iopub.status.busy": "2025-03-19T04:39:50.228120Z",
     "iopub.status.idle": "2025-03-19T04:39:50.361100Z",
     "shell.execute_reply": "2025-03-19T04:39:50.360353Z",
     "shell.execute_reply.started": "2025-03-19T04:39:50.228385Z"
    },
    "id": "03520f5c",
    "outputId": "1186f7ee-6e00-445b-cd90-43c86ca26d6f"
   },
   "outputs": [
    {
     "name": "stdout",
     "output_type": "stream",
     "text": [
      "Video: videmmmmmmsss_89.mp4, Width: 704, Height: 576, FPS: 24, Frames: 273\n",
      "Video: videppppsss_34.mp4, Width: 704, Height: 576, FPS: 25, Frames: 400\n",
      "Video: videyyyyyyyyyss_5.mp4, Width: 704, Height: 576, FPS: 25, Frames: 250\n",
      "Video: shop_lifter_92.mp4, Width: 704, Height: 576, FPS: 25, Frames: 375\n",
      "Video: shop_lifter_9.mp4, Width: 704, Height: 576, FPS: 24, Frames: 297\n",
      "Video: videmmmmmmsss_102.mp4, Width: 704, Height: 576, FPS: 24, Frames: 248\n",
      "Video: videyyyyyynnnnnnzzzzzyyyss_2.mp4, Width: 704, Height: 576, FPS: 25, Frames: 325\n",
      "Video: videmmmmmmsss_101.mp4, Width: 704, Height: 576, FPS: 24, Frames: 248\n",
      "Video: videyyyyyynnnnnnzzzzzyyyss_10.mp4, Width: 704, Height: 576, FPS: 25, Frames: 300\n",
      "Video: videmmmmmmsss_85.mp4, Width: 704, Height: 576, FPS: 24, Frames: 248\n"
     ]
    }
   ],
   "source": [
    "inspect_samples(shop_lifters_dir) #shop lifters directory"
   ]
  },
  {
   "cell_type": "code",
   "execution_count": 8,
   "id": "84cc41e4",
   "metadata": {
    "colab": {
     "base_uri": "https://localhost:8080/"
    },
    "execution": {
     "iopub.execute_input": "2025-03-19T04:40:00.204335Z",
     "iopub.status.busy": "2025-03-19T04:40:00.203970Z",
     "iopub.status.idle": "2025-03-19T04:40:00.226753Z",
     "shell.execute_reply": "2025-03-19T04:40:00.226083Z",
     "shell.execute_reply.started": "2025-03-19T04:40:00.204308Z"
    },
    "id": "84cc41e4",
    "outputId": "6894e570-f2cd-4891-d2b2-c1d87e1b19ff"
   },
   "outputs": [
    {
     "name": "stdout",
     "output_type": "stream",
     "text": [
      "Video: shop_lifter_n_177_1.mp4, Width: 704, Height: 576, FPS: 25, Frames: 425\n",
      "Video: shop_lifter_n_180.mp4, Width: 704, Height: 576, FPS: 25, Frames: 375\n",
      "Video: shop_lifter_n_131.mp4, Width: 704, Height: 576, FPS: 25, Frames: 325\n",
      "Video: videppppsss_34.mp4, Width: 704, Height: 576, FPS: 24, Frames: 199\n",
      "Video: shop_lifter_n_47_1.mp4, Width: 704, Height: 576, FPS: 25, Frames: 525\n",
      "Video: shop_lifter_n_69_1.mp4, Width: 704, Height: 576, FPS: 25, Frames: 350\n",
      "Video: shop_lifter_n_189.mp4, Width: 704, Height: 576, FPS: 25, Frames: 200\n",
      "Video: shop_lifter_n_124.mp4, Width: 704, Height: 576, FPS: 25, Frames: 200\n",
      "Video: shop_lifter_n_32_1.mp4, Width: 704, Height: 576, FPS: 25, Frames: 375\n",
      "Video: shop_lifter_n_120_1.mp4, Width: 704, Height: 576, FPS: 25, Frames: 250\n"
     ]
    }
   ],
   "source": [
    "inspect_samples(non_shop_lifters_dir) #non shop lifters directory"
   ]
  },
  {
   "cell_type": "markdown",
   "id": "52d7dcc6",
   "metadata": {
    "id": "52d7dcc6"
   },
   "source": [
    "### Dataset Preprocessing and preparation"
   ]
  },
  {
   "cell_type": "code",
   "execution_count": 9,
   "id": "U1ZYENsgu5Tt",
   "metadata": {
    "colab": {
     "base_uri": "https://localhost:8080/"
    },
    "execution": {
     "iopub.execute_input": "2025-03-19T04:40:44.338546Z",
     "iopub.status.busy": "2025-03-19T04:40:44.338134Z",
     "iopub.status.idle": "2025-03-19T04:40:44.345711Z",
     "shell.execute_reply": "2025-03-19T04:40:44.344759Z",
     "shell.execute_reply.started": "2025-03-19T04:40:44.338511Z"
    },
    "id": "U1ZYENsgu5Tt",
    "outputId": "868d41b8-fc99-4485-ef5d-04fb08f68699"
   },
   "outputs": [
    {
     "name": "stdout",
     "output_type": "stream",
     "text": [
      "['non shop lifters', 'shop lifters']\n"
     ]
    }
   ],
   "source": [
    "IMAGE_HEIGHT, IMAGE_WIDTH = 112, 112  # Minimum required for r2plus1d_18\n",
    "SEQUENCE_LENGTH = 16  # Number of frames per video sequence\n",
    "\n",
    "# Updated Normalization for r2plus1d_18\n",
    "transform = transforms.Compose([\n",
    "    transforms.ToPILImage(),\n",
    "    transforms.Resize((IMAGE_HEIGHT, IMAGE_WIDTH)),  # Resize to 112x112\n",
    "    transforms.ToTensor(),\n",
    "    transforms.Normalize(mean=[0.43216, 0.394666, 0.37645],\n",
    "                         std=[0.22803, 0.22145, 0.216989])\n",
    "])\n",
    "\n",
    "CLASSES_LIST = sorted([entry.name for entry in os.scandir(DATASET_DIR) if entry.is_dir()])\n",
    "print(CLASSES_LIST)"
   ]
  },
  {
   "cell_type": "code",
   "execution_count": 10,
   "id": "jSE1zy7rtviF",
   "metadata": {
    "execution": {
     "iopub.execute_input": "2025-03-19T04:41:13.400201Z",
     "iopub.status.busy": "2025-03-19T04:41:13.399851Z",
     "iopub.status.idle": "2025-03-19T04:41:13.405743Z",
     "shell.execute_reply": "2025-03-19T04:41:13.404782Z",
     "shell.execute_reply.started": "2025-03-19T04:41:13.400173Z"
    },
    "id": "jSE1zy7rtviF"
   },
   "outputs": [],
   "source": [
    "# Extract frames function\n",
    "def frames_extraction(video_path):\n",
    "    frames_list = []\n",
    "    video_reader = cv2.VideoCapture(video_path)\n",
    "    video_frames_count = int(video_reader.get(cv2.CAP_PROP_FRAME_COUNT))\n",
    "\n",
    "    if video_frames_count < SEQUENCE_LENGTH:\n",
    "        return None  # Drop short videos\n",
    "\n",
    "    skip_frames_window = max(video_frames_count // SEQUENCE_LENGTH, 1)\n",
    "\n",
    "    for frame_counter in range(SEQUENCE_LENGTH):\n",
    "        video_reader.set(cv2.CAP_PROP_POS_FRAMES, frame_counter * skip_frames_window)\n",
    "        success, frame = video_reader.read()\n",
    "        if not success:\n",
    "            break\n",
    "        frame = cv2.cvtColor(frame, cv2.COLOR_BGR2RGB)  # Convert BGR to RGB\n",
    "        frame = transform(frame)  # Apply transforms\n",
    "        frames_list.append(frame)\n",
    "\n",
    "    video_reader.release()\n",
    "\n",
    "    if len(frames_list) < SEQUENCE_LENGTH:\n",
    "        return None  # Drop videos with insufficient frames\n",
    "\n",
    "    frames_tensor = torch.stack(frames_list)  # (T, C, H, W)\n",
    "    return frames_tensor.permute(1, 0, 2, 3)  # (C, T, H, W) for r2plus1d_18"
   ]
  },
  {
   "cell_type": "code",
   "execution_count": 12,
   "id": "y9kg5SjftvYo",
   "metadata": {
    "execution": {
     "iopub.execute_input": "2025-03-19T04:41:44.080599Z",
     "iopub.status.busy": "2025-03-19T04:41:44.080294Z",
     "iopub.status.idle": "2025-03-19T04:41:44.086076Z",
     "shell.execute_reply": "2025-03-19T04:41:44.085196Z",
     "shell.execute_reply.started": "2025-03-19T04:41:44.080578Z"
    },
    "id": "y9kg5SjftvYo"
   },
   "outputs": [],
   "source": [
    "# Custom Dataset Class\n",
    "class ShopliftingDataset(Dataset):\n",
    "    def __init__(self, dataset_dir, classes_list):\n",
    "        self.video_paths = []\n",
    "        self.labels = []\n",
    "\n",
    "        for class_index, class_name in enumerate(classes_list):\n",
    "            class_dir = os.path.join(dataset_dir, class_name)\n",
    "            for file_name in os.listdir(class_dir):\n",
    "                video_path = os.path.join(class_dir, file_name)\n",
    "                self.video_paths.append(video_path)\n",
    "                self.labels.append(class_index)\n",
    "\n",
    "    def __len__(self):\n",
    "        return len(self.video_paths)\n",
    "\n",
    "    def __getitem__(self, index):\n",
    "        video_path = self.video_paths[index]\n",
    "        label = self.labels[index]\n",
    "        frames = frames_extraction(video_path)\n",
    "\n",
    "        if frames is None:\n",
    "            return self.__getitem__((index + 1) % len(self.video_paths))  # Handle short videos\n",
    "\n",
    "        return frames, label"
   ]
  },
  {
   "cell_type": "code",
   "execution_count": 15,
   "id": "LyB49BaYtvVR",
   "metadata": {
    "execution": {
     "iopub.execute_input": "2025-03-19T04:44:35.799444Z",
     "iopub.status.busy": "2025-03-19T04:44:35.799108Z",
     "iopub.status.idle": "2025-03-19T04:44:35.807951Z",
     "shell.execute_reply": "2025-03-19T04:44:35.807083Z",
     "shell.execute_reply.started": "2025-03-19T04:44:35.799412Z"
    },
    "id": "LyB49BaYtvVR"
   },
   "outputs": [
    {
     "name": "stdout",
     "output_type": "stream",
     "text": [
      "Number of samples in training set: 598\n",
      "Number of samples in validation set: 128\n",
      "Number of samples in test set: 129\n"
     ]
    }
   ],
   "source": [
    "# Load dataset\n",
    "dataset = ShopliftingDataset(DATASET_DIR, CLASSES_LIST)\n",
    "train_size = int(0.7 * len(dataset))\n",
    "val_size = int(0.15 * len(dataset))\n",
    "test_size = len(dataset) - train_size - val_size\n",
    "training_setset, val_dataset, testing_setset = torch.utils.data.random_split(dataset, [train_size, val_size, test_size], generator=torch.Generator().manual_seed(seed_constant))\n",
    "\n",
    "# Print the number of samples in each dataset split\n",
    "print(f\"Number of samples in training set: {len(training_setset)}\")\n",
    "print(f\"Number of samples in validation set: {len(val_dataset)}\")\n",
    "print(f\"Number of samples in test set: {len(testing_setset)}\")\n",
    "\n",
    "train_loader = DataLoader(training_setset, batch_size=8, shuffle=True)\n",
    "val_loader = DataLoader(val_dataset, batch_size=8, shuffle=False)\n",
    "test_loader = DataLoader(testing_setset, batch_size=8, shuffle=False)\n"
   ]
  },
  {
   "cell_type": "markdown",
   "id": "80575c37",
   "metadata": {
    "id": "80575c37"
   },
   "source": [
    "### Model Architecture and Training"
   ]
  },
  {
   "cell_type": "code",
   "execution_count": 18,
   "id": "tvQDX-HhQUfV",
   "metadata": {
    "execution": {
     "iopub.execute_input": "2025-03-19T04:50:39.366294Z",
     "iopub.status.busy": "2025-03-19T04:50:39.365942Z",
     "iopub.status.idle": "2025-03-19T04:50:39.371835Z",
     "shell.execute_reply": "2025-03-19T04:50:39.370979Z",
     "shell.execute_reply.started": "2025-03-19T04:50:39.366266Z"
    },
    "id": "tvQDX-HhQUfV"
   },
   "outputs": [],
   "source": [
    "# Plot loss & performance_score curves\n",
    "def plot_training(train_losses, train_accuracies , val_losses, val_accuracies):\n",
    "    plt.figure(figsize=(12, 5))\n",
    "\n",
    "    # Loss plot\n",
    "    plt.subplot(1, 2, 1)\n",
    "    plt.plot(train_losses, label=\"Train Loss\", color=\"red\")\n",
    "    plt.plot(val_losses, label=\"Val Loss\", color=\"green\")\n",
    "    plt.xlabel(\"Epochs\")\n",
    "    plt.ylabel(\"Loss\")\n",
    "    plt.legend()\n",
    "    plt.title(\"Loss Curve\")\n",
    "\n",
    "    # Accuracy plot\n",
    "    plt.subplot(1, 2, 2)\n",
    "    plt.plot(train_accuracies, label=\"Train Accuracy\", color=\"blue\" )\n",
    "    plt.plot(val_accuracies, label=\"Val Accuracy\", color=\"yellow\" )\n",
    "    plt.xlabel(\"Epochs\")\n",
    "    plt.ylabel(\"Accuracy\")\n",
    "    plt.legend()\n",
    "    plt.title(\"Accuracy Curve\")\n",
    "\n",
    "    plt.show()"
   ]
  },
  {
   "cell_type": "code",
   "execution_count": 19,
   "id": "R-lcDlzwxiEP",
   "metadata": {
    "execution": {
     "iopub.execute_input": "2025-03-19T04:50:42.728315Z",
     "iopub.status.busy": "2025-03-19T04:50:42.728000Z",
     "iopub.status.idle": "2025-03-19T04:50:42.734433Z",
     "shell.execute_reply": "2025-03-19T04:50:42.733546Z",
     "shell.execute_reply.started": "2025-03-19T04:50:42.728291Z"
    },
    "id": "R-lcDlzwxiEP"
   },
   "outputs": [],
   "source": [
    "# Evaluation function\n",
    "def evaluate_classifier(classifier, data_loader):\n",
    "    classifier.eval()\n",
    "    correct, total, running_loss = 0, 0, 0.0\n",
    "    y_true, y_pred = [], []\n",
    "\n",
    "    with torch.no_grad():\n",
    "        for inputs, labels in data_loader:\n",
    "            inputs, labels = inputs.to(device), labels.to(device).float().unsqueeze(1)\n",
    "            outputs = classifier(inputs)\n",
    "            loss = criterion(outputs, labels)\n",
    "\n",
    "            running_loss += loss.item()\n",
    "            preds = torch.sigmoid(outputs).round()\n",
    "            correct += (preds == labels).sum().item()\n",
    "            total += labels.size(0)\n",
    "\n",
    "            y_true.extend(labels.detach().cpu().numpy())\n",
    "            y_pred.extend(preds.detach().cpu().numpy())\n",
    "\n",
    "\n",
    "    val_loss = running_loss / len(data_loader)\n",
    "    val_acc = performance_score_score(y_true, y_pred)\n",
    "    val_prec = precision_score(y_true, y_pred, zero_division=1)\n",
    "    val_rec = recall_score(y_true, y_pred, zero_division=1)\n",
    "\n",
    "    return val_loss, val_acc, val_prec, val_rec"
   ]
  },
  {
   "cell_type": "code",
   "execution_count": 20,
   "id": "6ef5f472",
   "metadata": {
    "colab": {
     "base_uri": "https://localhost:8080/",
     "height": 629
    },
    "execution": {
     "iopub.execute_input": "2025-03-19T04:50:46.426229Z",
     "iopub.status.busy": "2025-03-19T04:50:46.425908Z",
     "iopub.status.idle": "2025-03-19T05:31:31.161928Z",
     "shell.execute_reply": "2025-03-19T05:31:31.161064Z",
     "shell.execute_reply.started": "2025-03-19T04:50:46.426201Z"
    },
    "id": "6ef5f472",
    "outputId": "da69d8b3-0299-4a2f-a4bb-75ccb826aa21"
   },
   "outputs": [
    {
     "name": "stderr",
     "output_type": "stream",
     "text": [
      "Downloading: \"https://download.pytorch.org/models/r2plus1d_18-91a641e6.pth\" to /root/.cache/torch/hub/checkpoints/r2plus1d_18-91a641e6.pth\n",
      "100%|██████████| 120M/120M [00:00<00:00, 207MB/s] \n"
     ]
    },
    {
     "name": "stdout",
     "output_type": "stream",
     "text": [
      "Epoch 1/5: Train Loss=0.1594, Train Acc=0.9348, Train Precision=0.8968, Train Recall=0.9456, Val Loss=0.0531, Val Acc=0.9844, Val Precision=0.9535, Val Recall=1.0000\n",
      "Epoch 2/5: Train Loss=0.0783, Train Acc=0.9749, Train Precision=0.9553, Train Recall=0.9833, Val Loss=0.0024, Val Acc=1.0000, Val Precision=1.0000, Val Recall=1.0000\n",
      "Epoch 3/5: Train Loss=0.0383, Train Acc=0.9967, Train Precision=0.9917, Train Recall=1.0000, Val Loss=0.0169, Val Acc=0.9922, Val Precision=1.0000, Val Recall=0.9756\n",
      "Epoch 4/5: Train Loss=0.0385, Train Acc=0.9866, Train Precision=0.9793, Train Recall=0.9874, Val Loss=0.2134, Val Acc=0.8828, Val Precision=1.0000, Val Recall=0.6341\n",
      "Epoch 5/5: Train Loss=0.0253, Train Acc=0.9950, Train Precision=0.9876, Train Recall=1.0000, Val Loss=0.0052, Val Acc=1.0000, Val Precision=1.0000, Val Recall=1.0000\n",
      " Learning rate reduced to 5.000000e-05\n"
     ]
    },
    {
     "data": {
      "image/png": "[encoded data removed]",
      "text/plain": [
       "<Figure size 1200x500 with 2 Axes>"
      ]
     },
     "metadata": {},
     "output_type": "display_data"
    }
   ],
   "source": [
    "import torch\n",
    "import torch.nn as nn\n",
    "import torch.optim as optim\n",
    "import torchvision.classifiers.video as classifiers\n",
    "import matplotlib.pyplot as plt\n",
    "from sklearn.metrics import performance_score_score, precision_score, recall_score\n",
    "\n",
    "# Device configuration\n",
    "device = torch.device(\"cuda\" if torch.cuda.is_available() else \"cpu\")\n",
    "\n",
    "# Load pretrained R2Plus1D-18 classifier\n",
    "classifier = classifiers.r2plus1d_18(weights=\"DEFAULT\")  # Pretrained weights\n",
    "classifier.fc = nn.Linear(classifier.fc.in_features, 1)  # Modify final layer for binary classification\n",
    "classifier = classifier.to(device)\n",
    "\n",
    "# Loss function & optimizer\n",
    "criterion = nn.BCEWithLogitsLoss()  # Binary classification loss\n",
    "optimizer = optim.Adam(classifier.parameters(), lr=1e-4)\n",
    "\n",
    "# Callbacks: Checkpointing, Early Stopping, Reduce LR on Plateau\n",
    "best_val_loss = float(\"inf\")\n",
    "patience = 7  # Early stopping patience\n",
    "no_improve_epochs = 0\n",
    "\n",
    "# Training function\n",
    "def train_classifier(classifier, train_loader, val_loader, criterion, optimizer, epochs):\n",
    "    train_losses, val_losses = [], []\n",
    "    train_accuracies, val_accuracies = [], []\n",
    "    train_precisions, val_precisions = [], []\n",
    "    train_recalls, val_recalls = [], []\n",
    "\n",
    "    results = []  # Store epoch-wise results\n",
    "\n",
    "    for epoch in range(epochs):\n",
    "        classifier.train()\n",
    "        running_loss, correct, total = 0.0, 0, 0\n",
    "        y_true, y_pred = [], []\n",
    "\n",
    "        for inputs, labels in train_loader:\n",
    "            inputs, labels = inputs.to(device), labels.to(device).float().unsqueeze(1)\n",
    "\n",
    "            optimizer.zero_grad()\n",
    "            outputs = classifier(inputs)\n",
    "            loss = criterion(outputs, labels)\n",
    "            loss.backward()\n",
    "            optimizer.step()\n",
    "\n",
    "            running_loss += loss.item()\n",
    "            preds = torch.sigmoid(outputs).round()\n",
    "            correct += (preds == labels).sum().item()\n",
    "            total += labels.size(0)\n",
    "\n",
    "            y_true.extend(labels.cpu().detach().numpy())\n",
    "            y_pred.extend(preds.cpu().detach().numpy())\n",
    "\n",
    "        train_loss = running_loss / len(train_loader)\n",
    "        train_acc = correct / total\n",
    "        train_prec = precision_score(y_true, y_pred, zero_division=1)\n",
    "        train_rec = recall_score(y_true, y_pred, zero_division=1)\n",
    "\n",
    "        # Validation Step\n",
    "        val_loss, val_acc, val_prec, val_rec = evaluate_classifier(classifier, val_loader)\n",
    "\n",
    "        # Store all metrics\n",
    "        train_losses.append(train_loss)\n",
    "        val_losses.append(val_loss)\n",
    "        train_accuracies.append(train_acc)\n",
    "        val_accuracies.append(val_acc)\n",
    "        train_precisions.append(train_prec)\n",
    "        val_precisions.append(val_prec)\n",
    "        train_recalls.append(train_rec)\n",
    "        val_recalls.append(val_rec)\n",
    "\n",
    "        # Store results for later printing\n",
    "        results.append(\n",
    "            f\"Epoch {epoch+1}/{epochs}: \"\n",
    "            f\"Train Loss={train_loss:.4f}, Train Acc={train_acc:.4f}, \"\n",
    "            f\"Train Precision={train_prec:.4f}, Train Recall={train_rec:.4f}, \"\n",
    "            f\"Val Loss={val_loss:.4f}, Val Acc={val_acc:.4f}, \"\n",
    "            f\"Val Precision={val_prec:.4f}, Val Recall={val_rec:.4f}\"\n",
    "        )\n",
    "\n",
    "        # Print the latest epoch results\n",
    "        print(results[-1])\n",
    "\n",
    "        # Early Stopping & Learning Rate Adjustment\n",
    "        global best_val_loss, no_improve_epochs\n",
    "        if val_loss < best_val_loss:\n",
    "            best_val_loss = val_loss\n",
    "            torch.save(classifier.state_dict(), \"best_r2plus1d_18_classifier.pth\")  # Save best classifier\n",
    "            no_improve_epochs = 0\n",
    "        else:\n",
    "            no_improve_epochs += 1\n",
    "\n",
    "        if no_improve_epochs >= patience:\n",
    "            print(\"Early stopping triggered!\")\n",
    "            break\n",
    "\n",
    "        if no_improve_epochs > 2:  # Reduce LR after 3 bad epochs\n",
    "            for param_group in optimizer.param_groups:\n",
    "                param_group[\"lr\"] *= 0.5\n",
    "                print(f\" Learning rate reduced to {param_group['lr']:.6e}\")\n",
    "\n",
    "    # Plot Training Curves\n",
    "    plot_training(train_losses, train_accuracies , val_losses, val_accuracies)\n",
    "\n",
    "# Train and evaluate\n",
    "train_classifier(classifier, train_loader, val_loader, criterion, optimizer, epochs=5)\n",
    "\n"
   ]
  },
  {
   "cell_type": "code",
   "execution_count": 21,
   "id": "RiKTvUFpwmhH",
   "metadata": {
    "colab": {
     "base_uri": "https://localhost:8080/"
    },
    "execution": {
     "iopub.execute_input": "2025-03-19T05:31:59.023363Z",
     "iopub.status.busy": "2025-03-19T05:31:59.022747Z",
     "iopub.status.idle": "2025-03-19T05:33:04.825587Z",
     "shell.execute_reply": "2025-03-19T05:33:04.824820Z",
     "shell.execute_reply.started": "2025-03-19T05:31:59.023326Z"
    },
    "id": "RiKTvUFpwmhH",
    "outputId": "032fec35-191b-42b0-b05d-ad4cbe366a26"
   },
   "outputs": [
    {
     "name": "stdout",
     "output_type": "stream",
     "text": [
      "Test Accuracy: 1.00\n",
      "Test Precision: 1.00\n",
      "Test Recall: 1.00\n"
     ]
    }
   ],
   "source": [
    "# Evaluate on test set\n",
    "test_loss, test_acc, test_prec, test_rec = evaluate_classifier(classifier, test_loader)\n",
    "print(f\"Test Accuracy: {test_acc:.2f}\")\n",
    "print(f\"Test Precision: {test_prec:.2f}\")\n",
    "print(f\"Test Recall: {test_rec:.2f}\")"
   ]
  },
  {
   "cell_type": "code",
   "execution_count": null,
   "id": "17b8aba8",
   "metadata": {
    "id": "17b8aba8"
   },
   "outputs": [],
   "source": []
  }
 ],
 "metadata": {
  "accelerator": "GPU",
  "colab": {
   "gpuType": "T4",
   "provenance": []
  },
  "kaggle": {
   "accelerator": "nvidiaTeslaT4",
   "dataSources": [],
   "dockerImageVersionId": 30919,
   "isGpuEnabled": true,
   "isInternetEnabled": true,
   "language": "python",
   "sourceType": "notebook"
  },
  "kernelspec": {
   "display_name": "Python 3",
   "language": "python",
   "name": "python3"
  },
  "language_info": {
   "codemirror_mode": {
    "name": "ipython",
    "version": 3
   },
   "file_extension": ".py",
   "mimetype": "text/x-python",
   "name": "python",
   "nbconvert_exporter": "python",
   "pygments_lexer": "ipython3",
   "version": "3.10.12"
  }
 },
 "nbformat": 4,
 "nbformat_minor": 5
}
